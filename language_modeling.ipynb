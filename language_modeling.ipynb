{
 "cells": [
  {
   "cell_type": "markdown",
   "id": "d3d89da6",
   "metadata": {},
   "source": [
    "# Text Classification using Language Modeling\n",
    "\n",
    "- In this notebook, we will practice text pre-processing and language modeling for text classification.\n",
    "- We will use a subset of the Reuters-21578 data set, a standard data set for evaluating text classification systems.\n",
    "- You can access data from this link: https://www.kaggle.com/datasets/nltkdata/reuters\n",
    "- The \"reuters21578.zip\" file contains 21578 news stories from Reuters newswire classified under one or more of 118 categories.\n",
    "- There are 21 SGML files in this zip file, each containing 1000 news articles, except the last file, which contains 578 articles.\n",
    "- We should pre-process the SGML files to extract the training and test sets.\n",
    "- We will build a text classifier that assigns an input test document to one of the top five classes in the Reuters-21578 corpus:\n",
    "\n",
    "  **earn, acquisitions, grain, crude, and money-fx.**"
   ]
  },
  {
   "cell_type": "code",
   "execution_count": 1,
   "id": "c54f283e",
   "metadata": {},
   "outputs": [],
   "source": [
    "import os\n",
    "import pandas as pd\n",
    "from bs4 import BeautifulSoup\n",
    "from sklearn.feature_extraction.text import CountVectorizer\n",
    "from sklearn.naive_bayes import MultinomialNB\n",
    "from sklearn.metrics import classification_report, f1_score\n",
    "from nltk.tokenize import word_tokenize\n",
    "from collections import Counter\n",
    "from nltk import bigrams, trigrams\n",
    "import matplotlib.pyplot as plt\n",
    "import seaborn as sns\n",
    "from sklearn.metrics import confusion_matrix, ConfusionMatrixDisplay"
   ]
  },
  {
   "cell_type": "markdown",
   "id": "0d1544ee",
   "metadata": {},
   "source": [
    "## Data Pre-Processing"
   ]
  },
  {
   "cell_type": "code",
   "execution_count": 2,
   "id": "2c18a8a6",
   "metadata": {},
   "outputs": [],
   "source": [
    "# Define the directory for the folder \"reuters21578\" with SGML files\n",
    "data_directory = r'C:\\Users\\said_\\OneDrive\\Masaüstü\\github\\Natural Language Processing\\Datasets\\reuters21578'"
   ]
  },
  {
   "cell_type": "code",
   "execution_count": 3,
   "id": "9ae80e98",
   "metadata": {},
   "outputs": [
    {
     "name": "stdout",
     "output_type": "stream",
     "text": [
      "Original training size: (21000, 3)\n",
      "Original test size: (578, 3)\n"
     ]
    }
   ],
   "source": [
    "# Define a function to obtain training data\n",
    "def parse_sgml_file(file_path):\n",
    "    with open(file_path, 'r', encoding='latin-1') as file:\n",
    "        soup = BeautifulSoup(file, 'html.parser')\n",
    "        documents = soup.find_all('reuters')\n",
    "        data = []\n",
    "        for doc in documents:\n",
    "            document_id = doc.get('newid')\n",
    "            topics = [cat.text for cat in doc.topics.find_all('d')]\n",
    "            text = doc.find('text').text.strip()\n",
    "            data.append({'Document_ID': document_id, 'Topics': topics, 'Text': text})\n",
    "        return data\n",
    "\n",
    "# Define a function to obtain test data\n",
    "def create_dataframe(directory, start_file, end_file):\n",
    "    file_paths = [os.path.join(directory, f\"reut2-{i:03d}.sgm\") for i in range(start_file, end_file + 1)]\n",
    "    data = []\n",
    "    for file_path in file_paths:\n",
    "        data.extend(parse_sgml_file(file_path))\n",
    "    return pd.DataFrame(data)\n",
    "\n",
    "# Create a dataframe for training data (reut2-000.sgm to reut2-020.sgm)\n",
    "train_df = create_dataframe(data_directory, start_file=0, end_file=20)\n",
    "\n",
    "# Create a dataframe for test data (reut2-021.sgm)\n",
    "test_df = pd.DataFrame(parse_sgml_file(os.path.join(data_directory, 'reut2-021.sgm')))\n",
    "\n",
    "print(f\"Original training size: {train_df.shape}\")\n",
    "print(f\"Original test size: {test_df.shape}\")"
   ]
  },
  {
   "cell_type": "code",
   "execution_count": 4,
   "id": "a46adfdf",
   "metadata": {},
   "outputs": [
    {
     "data": {
      "text/html": [
       "<div>\n",
       "<style scoped>\n",
       "    .dataframe tbody tr th:only-of-type {\n",
       "        vertical-align: middle;\n",
       "    }\n",
       "\n",
       "    .dataframe tbody tr th {\n",
       "        vertical-align: top;\n",
       "    }\n",
       "\n",
       "    .dataframe thead th {\n",
       "        text-align: right;\n",
       "    }\n",
       "</style>\n",
       "<table border=\"1\" class=\"dataframe\">\n",
       "  <thead>\n",
       "    <tr style=\"text-align: right;\">\n",
       "      <th></th>\n",
       "      <th>Document_ID</th>\n",
       "      <th>Topics</th>\n",
       "      <th>Text</th>\n",
       "    </tr>\n",
       "  </thead>\n",
       "  <tbody>\n",
       "    <tr>\n",
       "      <th>0</th>\n",
       "      <td>1</td>\n",
       "      <td>[cocoa]</td>\n",
       "      <td>\u0002\\nBAHIA COCOA REVIEW\\n    SALVADOR, Feb 26 - ...</td>\n",
       "    </tr>\n",
       "    <tr>\n",
       "      <th>1</th>\n",
       "      <td>2</td>\n",
       "      <td>[]</td>\n",
       "      <td>\u0002\\nSTANDARD OIL &lt;SRD&gt; TO FORM FINANCIAL UNIT\\n...</td>\n",
       "    </tr>\n",
       "    <tr>\n",
       "      <th>2</th>\n",
       "      <td>3</td>\n",
       "      <td>[]</td>\n",
       "      <td>\u0002\\nTEXAS COMMERCE BANCSHARES &lt;TCB&gt; FILES PLAN\\...</td>\n",
       "    </tr>\n",
       "    <tr>\n",
       "      <th>3</th>\n",
       "      <td>4</td>\n",
       "      <td>[]</td>\n",
       "      <td>\u0002\\nTALKING POINT/BANKAMERICA &lt;BAC&gt; EQUITY OFFE...</td>\n",
       "    </tr>\n",
       "    <tr>\n",
       "      <th>4</th>\n",
       "      <td>5</td>\n",
       "      <td>[grain, wheat, corn, barley, oat, sorghum]</td>\n",
       "      <td>\u0002\\nNATIONAL AVERAGE PRICES FOR FARMER-OWNED RE...</td>\n",
       "    </tr>\n",
       "  </tbody>\n",
       "</table>\n",
       "</div>"
      ],
      "text/plain": [
       "  Document_ID                                      Topics  \\\n",
       "0           1                                     [cocoa]   \n",
       "1           2                                          []   \n",
       "2           3                                          []   \n",
       "3           4                                          []   \n",
       "4           5  [grain, wheat, corn, barley, oat, sorghum]   \n",
       "\n",
       "                                                Text  \n",
       "0  \u0002\\nBAHIA COCOA REVIEW\\n    SALVADOR, Feb 26 - ...  \n",
       "1  \u0002\\nSTANDARD OIL <SRD> TO FORM FINANCIAL UNIT\\n...  \n",
       "2  \u0002\\nTEXAS COMMERCE BANCSHARES <TCB> FILES PLAN\\...  \n",
       "3  \u0002\\nTALKING POINT/BANKAMERICA <BAC> EQUITY OFFE...  \n",
       "4  \u0002\\nNATIONAL AVERAGE PRICES FOR FARMER-OWNED RE...  "
      ]
     },
     "execution_count": 4,
     "metadata": {},
     "output_type": "execute_result"
    }
   ],
   "source": [
    "train_df.head()"
   ]
  },
  {
   "cell_type": "code",
   "execution_count": 5,
   "id": "0a190b1f-ec51-47b5-a586-9603840299aa",
   "metadata": {},
   "outputs": [
    {
     "name": "stdout",
     "output_type": "stream",
     "text": [
      "Final training size: (8078, 3)\n",
      "Final test size: (289, 3)\n"
     ]
    }
   ],
   "source": [
    "# Set the topics of each observation according to desired_topics\n",
    "desired_topics = [\"earn\", \"acq\", \"grain\", \"crude\", \"money-fx\"]\n",
    "\n",
    "# 1) Training Set\n",
    "n_train = train_df.shape[0]\n",
    "excluded_news_train = list()\n",
    "\n",
    "for i in range(n_train):\n",
    "    topic_list = train_df.loc[i, \"Topics\"]\n",
    "    \n",
    "    if len(topic_list) == 0:\n",
    "        excluded_news_train.append(i)\n",
    "    else:\n",
    "        count = 0\n",
    "        for j in topic_list:\n",
    "            if j in desired_topics:\n",
    "                final_topic = j\n",
    "                count += 1\n",
    "        if count == 1:\n",
    "            train_df.loc[i, \"Topics\"] = final_topic  # Corrected\n",
    "        else:\n",
    "            excluded_news_train.append(i)\n",
    "\n",
    "# 2) Test Set\n",
    "n_test = test_df.shape[0]\n",
    "excluded_news_test = list()\n",
    "\n",
    "for i in range(n_test):\n",
    "    topic_list = test_df.loc[i, \"Topics\"]\n",
    "    \n",
    "    if len(topic_list) == 0:\n",
    "        excluded_news_test.append(i)\n",
    "    else:\n",
    "        count = 0\n",
    "        for j in topic_list:\n",
    "            if j in desired_topics:\n",
    "                final_topic = j\n",
    "                count += 1\n",
    "        if count == 1:\n",
    "            test_df.loc[i, \"Topics\"] = final_topic  # Corrected\n",
    "        else:\n",
    "            excluded_news_test.append(i)\n",
    "\n",
    "# Exclude the observations that are empty OR do not include any of the desired_topics\n",
    "new_training = train_df.drop(index=excluded_news_train).reset_index(drop=True)\n",
    "new_test = test_df.drop(index=excluded_news_test).reset_index(drop=True)\n",
    "\n",
    "# Apply case-folding to the text columns\n",
    "new_training[\"Text\"] = new_training[\"Text\"].str.lower()\n",
    "new_test[\"Text\"] = new_test[\"Text\"].str.lower()\n",
    "\n",
    "print(f\"Final training size: {new_training.shape}\")\n",
    "print(f\"Final test size: {new_test.shape}\")"
   ]
  },
  {
   "cell_type": "code",
   "execution_count": 6,
   "id": "fe8b431b",
   "metadata": {},
   "outputs": [
    {
     "name": "stdout",
     "output_type": "stream",
     "text": [
      "Final shape of the training data: (8078, 3)\n"
     ]
    },
    {
     "data": {
      "text/plain": [
       "Topics\n",
       "earn        3803\n",
       "acq         2331\n",
       "money-fx     767\n",
       "grain        612\n",
       "crude        565\n",
       "Name: count, dtype: int64"
      ]
     },
     "execution_count": 6,
     "metadata": {},
     "output_type": "execute_result"
    }
   ],
   "source": [
    "# Check the number of desired topics for the training\n",
    "print(f\"Final shape of the training data: {new_training.shape}\")\n",
    "new_training[\"Topics\"].value_counts()"
   ]
  },
  {
   "cell_type": "code",
   "execution_count": 7,
   "id": "c8f78a7a",
   "metadata": {},
   "outputs": [
    {
     "name": "stdout",
     "output_type": "stream",
     "text": [
      "Final shape of the test data: (289, 3)\n"
     ]
    },
    {
     "data": {
      "text/plain": [
       "Topics\n",
       "earn        151\n",
       "acq          72\n",
       "money-fx     29\n",
       "crude        28\n",
       "grain         9\n",
       "Name: count, dtype: int64"
      ]
     },
     "execution_count": 7,
     "metadata": {},
     "output_type": "execute_result"
    }
   ],
   "source": [
    "# Check the number of desired topics for the test set\n",
    "print(f\"Final shape of the test data: {new_test.shape}\")\n",
    "new_test[\"Topics\"].value_counts()"
   ]
  },
  {
   "cell_type": "markdown",
   "id": "41c633d5-3243-4ef2-9bf8-741ec3aed6b4",
   "metadata": {},
   "source": [
    "## Language Modeling: N-Gram Language Models"
   ]
  },
  {
   "cell_type": "markdown",
   "id": "68980f12",
   "metadata": {},
   "source": [
    "### 1) Unigram Model"
   ]
  },
  {
   "cell_type": "code",
   "execution_count": 8,
   "id": "9775f5a0",
   "metadata": {},
   "outputs": [
    {
     "name": "stdout",
     "output_type": "stream",
     "text": [
      "No token with zero observation >> Smoothing is not required!\n"
     ]
    }
   ],
   "source": [
    "# Tokenize the text and create a unigram model\n",
    "def build_unigram_model(text_data):\n",
    "    \n",
    "    unigram_tokens = [word_tokenize(text) for text in text_data]\n",
    "    flattened_tokens = [token for sublist in unigram_tokens for token in sublist]\n",
    "    # Count the occurrences of each token (unigram)\n",
    "    unigram_model = Counter(flattened_tokens)\n",
    "    \n",
    "    return unigram_model\n",
    "\n",
    "# Build unigram language model\n",
    "training_text = new_training['Text']\n",
    "unigram_model = build_unigram_model(training_text)\n",
    "\n",
    "# Check if smoothing necessary\n",
    "zero_count = 0\n",
    "for i in unigram_model.keys():\n",
    "    if unigram_model[i] == 0:\n",
    "        count += 1\n",
    "        \n",
    "if count == 0:\n",
    "    print(\"No token with zero observation >> Smoothing is not required!\")\n",
    "else:\n",
    "    print(\"Number of biagrams with zero observations: {count} >> Smoothing is required!\")"
   ]
  },
  {
   "cell_type": "code",
   "execution_count": 9,
   "id": "19dc42c6",
   "metadata": {},
   "outputs": [
    {
     "name": "stdout",
     "output_type": "stream",
     "text": [
      "              precision    recall  f1-score   support\n",
      "\n",
      "         acq       1.00      1.00      1.00        72\n",
      "       crude       0.97      1.00      0.98        28\n",
      "        earn       1.00      1.00      1.00       151\n",
      "       grain       1.00      0.89      0.94         9\n",
      "    money-fx       1.00      1.00      1.00        29\n",
      "\n",
      "    accuracy                           1.00       289\n",
      "   macro avg       0.99      0.98      0.98       289\n",
      "weighted avg       1.00      1.00      1.00       289\n",
      "\n"
     ]
    }
   ],
   "source": [
    "# Text Classification: Unigram & Multinomial Naive Bayes Classifier \n",
    "X_train, y_train = new_training['Text'], new_training['Topics']\n",
    "X_test, y_test = new_test['Text'], new_test['Topics']\n",
    "\n",
    "# Convert text into numerical features (unigrams)\n",
    "vectorizer = CountVectorizer()\n",
    "vectorizer.fit(X_train)\n",
    "X_train_transformed = vectorizer.transform(X_train)\n",
    "X_test_transformed = vectorizer.transform(X_test)\n",
    "\n",
    "# Define a classification model\n",
    "unigram_model = MultinomialNB()\n",
    "\n",
    "# Train the model\n",
    "unigram_model.fit(X_train_transformed, y_train)\n",
    "\n",
    "# Make predictions over the test set\n",
    "preds = unigram_model.predict(X_test_transformed)\n",
    "\n",
    "# Classification results\n",
    "print(classification_report(y_test, preds))"
   ]
  },
  {
   "cell_type": "code",
   "execution_count": 10,
   "id": "5b73a1b1",
   "metadata": {},
   "outputs": [
    {
     "data": {
      "text/plain": [
       "<Figure size 800x600 with 0 Axes>"
      ]
     },
     "metadata": {},
     "output_type": "display_data"
    },
    {
     "data": {
      "image/png": "[encoded data removed]",
      "text/plain": [
       "<Figure size 640x480 with 2 Axes>"
      ]
     },
     "metadata": {},
     "output_type": "display_data"
    }
   ],
   "source": [
    "# Initiate a confusion matrix\n",
    "cm = confusion_matrix(y_test, preds)\n",
    "\n",
    "# Get unique target labels\n",
    "labels = sorted(y_test.unique())\n",
    "\n",
    "# Plot the confusion matrix\n",
    "plt.figure(figsize=(8, 6))\n",
    "disp = ConfusionMatrixDisplay(confusion_matrix=cm, display_labels=labels)\n",
    "disp.plot()\n",
    "plt.title(\"Confusion Matrix - Unigram Model\")\n",
    "plt.show()"
   ]
  },
  {
   "cell_type": "code",
   "execution_count": 11,
   "id": "1006eea6",
   "metadata": {},
   "outputs": [
    {
     "data": {
      "text/plain": [
       "{'precision': 0.993103448275862,\n",
       " 'recall': 0.9777777777777779,\n",
       " 'f1-score': 0.9847265221878224,\n",
       " 'support': 289.0}"
      ]
     },
     "execution_count": 11,
     "metadata": {},
     "output_type": "execute_result"
    }
   ],
   "source": [
    "# Obtain the unigram's macro average results for the classification evaluation metrics\n",
    "uni_macro_avg = classification_report(y_test, preds, output_dict=True)[\"macro avg\"]\n",
    "uni_macro_avg"
   ]
  },
  {
   "cell_type": "code",
   "execution_count": 12,
   "id": "94f436a3",
   "metadata": {},
   "outputs": [
    {
     "name": "stdout",
     "output_type": "stream",
     "text": [
      "No difference, smoothing is not necessary.\n"
     ]
    }
   ],
   "source": [
    "# Final Check: Laplace Smoothing\n",
    "# Compare the classification result with and without Laplace Smoothing\n",
    "unigram_no_laplace = MultinomialNB()\n",
    "# Apply Laplace smoothing by adding one to the zero-observed instances\n",
    "unigram_laplace = MultinomialNB(alpha=1.0)\n",
    "\n",
    "# Train the model\n",
    "unigram_no_laplace.fit(X_train_transformed, y_train)\n",
    "unigram_laplace.fit(X_train_transformed, y_train)\n",
    "\n",
    "# Make predictions over the test set and compare macro averaged F1 scores\n",
    "fscore_no_laplace = f1_score(y_test, unigram_no_laplace.predict(X_test_transformed), average=\"macro\")\n",
    "fscore_laplace = f1_score(y_test, unigram_laplace.predict(X_test_transformed), average=\"macro\")\n",
    "\n",
    "if fscore_no_laplace == fscore_laplace:\n",
    "    print(\"No difference, smoothing is not necessary.\")"
   ]
  },
  {
   "cell_type": "markdown",
   "id": "f796b4e4",
   "metadata": {},
   "source": [
    "### 2) Bigram Model"
   ]
  },
  {
   "cell_type": "code",
   "execution_count": 13,
   "id": "3918cd53",
   "metadata": {},
   "outputs": [
    {
     "name": "stdout",
     "output_type": "stream",
     "text": [
      "No token with zero observation >> Smoothing is not required!\n"
     ]
    }
   ],
   "source": [
    "# Tokenize the text and create a bigram model\n",
    "def build_bigram_model(text_series):\n",
    "    # Tokenize the text and create bigrams\n",
    "    bigram_tokens = [list(bigrams(word_tokenize(text))) for text in text_series]\n",
    "    flattened_bigrams = [bigram for sublist in bigram_tokens for bigram in sublist]\n",
    "    \n",
    "    # Count the occurrences of each bigram\n",
    "    bigram_model = Counter(flattened_bigrams)\n",
    "    \n",
    "    return bigram_model\n",
    "\n",
    "# Build a bigram language model\n",
    "training_text = new_training['Text']\n",
    "bigram_model = build_bigram_model(training_text)\n",
    "\n",
    "# Check if smoothing necessary\n",
    "zero_count = 0\n",
    "for i in bigram_model.keys():\n",
    "    if bigram_model[i] == 0:\n",
    "        count += 1\n",
    "        \n",
    "if count == 0:\n",
    "    print(\"No token with zero observation >> Smoothing is not required!\")\n",
    "else:\n",
    "    print(\"Number of biagrams with zero observation: {count} >> Smoothing is required!\")"
   ]
  },
  {
   "cell_type": "code",
   "execution_count": 14,
   "id": "abf7265e",
   "metadata": {},
   "outputs": [
    {
     "name": "stdout",
     "output_type": "stream",
     "text": [
      "              precision    recall  f1-score   support\n",
      "\n",
      "         acq       1.00      0.99      0.99        72\n",
      "       crude       0.97      1.00      0.98        28\n",
      "        earn       0.99      1.00      0.99       151\n",
      "       grain       1.00      0.89      0.94         9\n",
      "    money-fx       1.00      0.97      0.98        29\n",
      "\n",
      "    accuracy                           0.99       289\n",
      "   macro avg       0.99      0.97      0.98       289\n",
      "weighted avg       0.99      0.99      0.99       289\n",
      "\n"
     ]
    }
   ],
   "source": [
    "# Text Classification: Bigram & Multinomial Naive Bayes Classifier \n",
    "X_train, y_train = new_training['Text'], new_training['Topics']\n",
    "X_test, y_test = new_test['Text'], new_test['Topics']\n",
    "\n",
    "# Convert text into numerical features (bigrams)\n",
    "vectorizer = CountVectorizer(ngram_range=(2, 2))\n",
    "vectorizer.fit(X_train)\n",
    "X_train_transformed = vectorizer.transform(X_train)\n",
    "X_test_transformed = vectorizer.transform(X_test)\n",
    "\n",
    "# Define a classification model\n",
    "bigram_model = MultinomialNB()\n",
    "\n",
    "# Train the model\n",
    "bigram_model.fit(X_train_transformed, y_train)\n",
    "\n",
    "# Make predictions over the test set\n",
    "preds = bigram_model.predict(X_test_transformed)\n",
    "\n",
    "# Classification results\n",
    "print(classification_report(y_test, preds))"
   ]
  },
  {
   "cell_type": "code",
   "execution_count": 15,
   "id": "c0fd62b4",
   "metadata": {},
   "outputs": [
    {
     "data": {
      "text/plain": [
       "<Figure size 800x600 with 0 Axes>"
      ]
     },
     "metadata": {},
     "output_type": "display_data"
    },
    {
     "data": {
      "image/png": "[encoded data removed]",
      "text/plain": [
       "<Figure size 640x480 with 2 Axes>"
      ]
     },
     "metadata": {},
     "output_type": "display_data"
    }
   ],
   "source": [
    "# Initiate a confusion matrix\n",
    "cm = confusion_matrix(y_test, preds)\n",
    "\n",
    "# Get unique target labels\n",
    "labels = sorted(y_test.unique())\n",
    "\n",
    "# Plot the confusion matrix\n",
    "plt.figure(figsize=(8, 6))\n",
    "disp = ConfusionMatrixDisplay(confusion_matrix=cm, display_labels=labels)\n",
    "disp.plot()\n",
    "plt.title(\"Confusion Matrix - Bigram Model\")\n",
    "plt.show()"
   ]
  },
  {
   "cell_type": "code",
   "execution_count": 16,
   "id": "e94520e2",
   "metadata": {},
   "outputs": [
    {
     "data": {
      "text/plain": [
       "{'precision': 0.9904890691908947,\n",
       " 'recall': 0.9681034482758621,\n",
       " 'f1-score': 0.9785033593857122,\n",
       " 'support': 289.0}"
      ]
     },
     "execution_count": 16,
     "metadata": {},
     "output_type": "execute_result"
    }
   ],
   "source": [
    "# Obtain the bigram's macro average results for the classification evaluation metrics\n",
    "bi_macro_avg = classification_report(y_test, preds, output_dict=True)[\"macro avg\"]\n",
    "bi_macro_avg"
   ]
  },
  {
   "cell_type": "code",
   "execution_count": 17,
   "id": "1dbfdb21",
   "metadata": {},
   "outputs": [
    {
     "name": "stdout",
     "output_type": "stream",
     "text": [
      "No difference, smoothing is not necessary.\n"
     ]
    }
   ],
   "source": [
    "# Final Check: Laplace Smoothing\n",
    "# Compare the classification result with and without Laplace Smoothing\n",
    "bigram_no_laplace = MultinomialNB()\n",
    "# Apply Laplace smoothing by adding one to the zero-observed instances\n",
    "bigram_laplace = MultinomialNB(alpha=1.0)\n",
    "\n",
    "# Train the model\n",
    "bigram_no_laplace.fit(X_train_transformed, y_train)\n",
    "bigram_laplace.fit(X_train_transformed, y_train)\n",
    "\n",
    "# Make predictions over the test set and compare macro averaged F1 scores\n",
    "fscore_no_laplace = f1_score(y_test, bigram_no_laplace.predict(X_test_transformed), average=\"macro\")\n",
    "fscore_laplace = f1_score(y_test, bigram_laplace.predict(X_test_transformed), average=\"macro\")\n",
    "\n",
    "if fscore_no_laplace == fscore_laplace:\n",
    "    print(\"No difference, smoothing is not necessary.\")"
   ]
  },
  {
   "cell_type": "markdown",
   "id": "a56f1126",
   "metadata": {},
   "source": [
    "### 3) Trigram Model"
   ]
  },
  {
   "cell_type": "code",
   "execution_count": 18,
   "id": "5163b9f6",
   "metadata": {},
   "outputs": [
    {
     "name": "stdout",
     "output_type": "stream",
     "text": [
      "No token with zero observation >> Smoothing is not required!\n"
     ]
    }
   ],
   "source": [
    "# Tokenize the text and create a trigram model\n",
    "def build_trigram_model(text_series):\n",
    "    # Tokenize the text and create trigrams\n",
    "    trigram_tokens = [list(trigrams(word_tokenize(text))) for text in text_series]\n",
    "    flattened_trigrams = [trigram for sublist in trigram_tokens for trigram in sublist]\n",
    "    \n",
    "    # Count the occurrences of each trigram\n",
    "    trigram_model = Counter(flattened_trigrams)\n",
    "    \n",
    "    return trigram_model\n",
    "\n",
    "# Build a trigram language model\n",
    "training_text = new_training['Text']\n",
    "trigram_model = build_trigram_model(training_text)\n",
    "\n",
    "# Check if smoothing necessary\n",
    "zero_count = sum(1 for count in trigram_model.values() if count == 0)\n",
    "if zero_count == 0:\n",
    "    print(\"No token with zero observation >> Smoothing is not required!\")\n",
    "else:\n",
    "    print(f\"Number of trigrams with zero observation: {zero_count} >> Smoothing is required!\")"
   ]
  },
  {
   "cell_type": "code",
   "execution_count": 19,
   "id": "9105f418",
   "metadata": {},
   "outputs": [
    {
     "name": "stdout",
     "output_type": "stream",
     "text": [
      "              precision    recall  f1-score   support\n",
      "\n",
      "         acq       0.97      0.99      0.98        72\n",
      "       crude       1.00      0.89      0.94        28\n",
      "        earn       0.96      1.00      0.98       151\n",
      "       grain       1.00      0.78      0.88         9\n",
      "    money-fx       1.00      0.90      0.95        29\n",
      "\n",
      "    accuracy                           0.97       289\n",
      "   macro avg       0.99      0.91      0.94       289\n",
      "weighted avg       0.97      0.97      0.97       289\n",
      "\n"
     ]
    }
   ],
   "source": [
    "# Extract text and labels from the training and test data\n",
    "X_train, y_train = new_training['Text'], new_training['Topics']\n",
    "X_test, y_test = new_test['Text'], new_test['Topics']\n",
    "\n",
    "# Convert text into numerical features (trigrams)\n",
    "vectorizer = CountVectorizer(ngram_range=(3, 3))\n",
    "vectorizer.fit(X_train)\n",
    "X_train_transformed = vectorizer.transform(X_train)\n",
    "X_test_transformed = vectorizer.transform(X_test)\n",
    "\n",
    "# Define a classification model\n",
    "trigram_model = MultinomialNB()\n",
    "\n",
    "# Train the model\n",
    "trigram_model.fit(X_train_transformed, y_train)\n",
    "\n",
    "# Make predictions over the test set\n",
    "preds = trigram_model.predict(X_test_transformed)\n",
    "\n",
    "# Evaluate the model\n",
    "print(classification_report(y_test, preds))"
   ]
  },
  {
   "cell_type": "code",
   "execution_count": 20,
   "id": "fb5eda05",
   "metadata": {},
   "outputs": [
    {
     "data": {
      "text/plain": [
       "<Figure size 800x600 with 0 Axes>"
      ]
     },
     "metadata": {},
     "output_type": "display_data"
    },
    {
     "data": {
      "image/png": "[encoded data removed]",
      "text/plain": [
       "<Figure size 640x480 with 2 Axes>"
      ]
     },
     "metadata": {},
     "output_type": "display_data"
    }
   ],
   "source": [
    "# Initiate a confusion matrix\n",
    "cm = confusion_matrix(y_test, preds)\n",
    "\n",
    "# Get unique target labels\n",
    "labels = sorted(y_test.unique())\n",
    "\n",
    "# Plot the confusion matrix\n",
    "plt.figure(figsize=(8, 6))\n",
    "disp = ConfusionMatrixDisplay(confusion_matrix=cm, display_labels=labels)\n",
    "disp.plot()\n",
    "plt.title(\"Confusion Matrix - Trigram Model\")\n",
    "plt.show()"
   ]
  },
  {
   "cell_type": "code",
   "execution_count": 21,
   "id": "b601cafc",
   "metadata": {},
   "outputs": [
    {
     "data": {
      "text/plain": [
       "{'precision': 0.9856597884515346,\n",
       " 'recall': 0.9106595511767924,\n",
       " 'f1-score': 0.9441014790028757,\n",
       " 'support': 289.0}"
      ]
     },
     "execution_count": 21,
     "metadata": {},
     "output_type": "execute_result"
    }
   ],
   "source": [
    "# Obtain the bigram's macro average results for the classification evaluation metrics\n",
    "tri_macro_avg = classification_report(y_test, preds, output_dict=True)[\"macro avg\"]\n",
    "tri_macro_avg"
   ]
  },
  {
   "cell_type": "code",
   "execution_count": 22,
   "id": "d6aa745f",
   "metadata": {},
   "outputs": [
    {
     "name": "stdout",
     "output_type": "stream",
     "text": [
      "No difference, smoothing is not necessary.\n"
     ]
    }
   ],
   "source": [
    "# Final Check: Laplace Smoothing\n",
    "# Compare the classification result with and without Laplace Smoothing\n",
    "trigram_no_laplace = MultinomialNB()\n",
    "# Apply Laplace smoothing by adding one to the zero-observed instances\n",
    "trigram_laplace = MultinomialNB(alpha=1.0)\n",
    "\n",
    "# Train the model\n",
    "trigram_no_laplace.fit(X_train_transformed, y_train)\n",
    "trigram_laplace.fit(X_train_transformed, y_train)\n",
    "\n",
    "# Make predictions over the test set and compare macro averaged F1 scores\n",
    "fscore_no_laplace = f1_score(y_test, trigram_no_laplace.predict(X_test_transformed), average=\"macro\")\n",
    "fscore_laplace = f1_score(y_test, trigram_laplace.predict(X_test_transformed), average=\"macro\")\n",
    "\n",
    "if fscore_no_laplace == fscore_laplace:\n",
    "    print(\"No difference, smoothing is not necessary.\")"
   ]
  },
  {
   "cell_type": "markdown",
   "id": "e5ec20aa",
   "metadata": {},
   "source": [
    "### Model Comparison"
   ]
  },
  {
   "cell_type": "code",
   "execution_count": 23,
   "id": "30872944",
   "metadata": {},
   "outputs": [
    {
     "data": {
      "text/html": [
       "<div>\n",
       "<style scoped>\n",
       "    .dataframe tbody tr th:only-of-type {\n",
       "        vertical-align: middle;\n",
       "    }\n",
       "\n",
       "    .dataframe tbody tr th {\n",
       "        vertical-align: top;\n",
       "    }\n",
       "\n",
       "    .dataframe thead th {\n",
       "        text-align: right;\n",
       "    }\n",
       "</style>\n",
       "<table border=\"1\" class=\"dataframe\">\n",
       "  <thead>\n",
       "    <tr style=\"text-align: right;\">\n",
       "      <th></th>\n",
       "      <th>precision</th>\n",
       "      <th>recall</th>\n",
       "      <th>f1-score</th>\n",
       "    </tr>\n",
       "  </thead>\n",
       "  <tbody>\n",
       "    <tr>\n",
       "      <th>Unigram</th>\n",
       "      <td>0.9931</td>\n",
       "      <td>0.9778</td>\n",
       "      <td>0.9847</td>\n",
       "    </tr>\n",
       "    <tr>\n",
       "      <th>Bigram</th>\n",
       "      <td>0.9905</td>\n",
       "      <td>0.9681</td>\n",
       "      <td>0.9785</td>\n",
       "    </tr>\n",
       "    <tr>\n",
       "      <th>Trigram</th>\n",
       "      <td>0.9857</td>\n",
       "      <td>0.9107</td>\n",
       "      <td>0.9441</td>\n",
       "    </tr>\n",
       "  </tbody>\n",
       "</table>\n",
       "</div>"
      ],
      "text/plain": [
       "         precision  recall  f1-score\n",
       "Unigram     0.9931  0.9778    0.9847\n",
       "Bigram      0.9905  0.9681    0.9785\n",
       "Trigram     0.9857  0.9107    0.9441"
      ]
     },
     "execution_count": 23,
     "metadata": {},
     "output_type": "execute_result"
    }
   ],
   "source": [
    "# Create a result df from the results of different language models\n",
    "df = pd.DataFrame([uni_macro_avg, bi_macro_avg, tri_macro_avg], index=['Unigram', 'Bigram', 'Trigram'])\n",
    "macro_result = df.drop(columns=\"support\")\n",
    "macro_result.round(4)"
   ]
  },
  {
   "cell_type": "markdown",
   "id": "9930f08c-9078-4ec1-9468-de6587caa33d",
   "metadata": {},
   "source": [
    "**Discussion:**\n",
    "\n",
    "The unigram model achieves the best performance with the highest precision (0.9931), recall (0.9778), and F1-score (0.9847), which demonstrates that single-word features effectively capture the distinct vocabularies of the top five classes in the Reuters-21578 dataset. The bigram model shows slightly lower scores, likely due to increased feature space and potential sparsity. The trigram model performs the worst, with a significant drop in recall (0.9107), indicating overfitting and reduced generalization. Overall, the results highlight that more straightforward unigram representations outperform more complex n-grams for this classification task, as the dataset's categories are well-separated by individual word features."
   ]
  },
  {
   "cell_type": "code",
   "execution_count": null,
   "id": "c21fb6ab",
   "metadata": {},
   "outputs": [],
   "source": []
  },
  {
   "cell_type": "code",
   "execution_count": null,
   "id": "ff4a5a87",
   "metadata": {},
   "outputs": [],
   "source": []
  },
  {
   "cell_type": "markdown",
   "id": "f3bc5131",
   "metadata": {},
   "source": [
    "# END"
   ]
  }
 ],
 "metadata": {
  "kernelspec": {
   "display_name": "Python 3 (ipykernel)",
   "language": "python",
   "name": "python3"
  },
  "language_info": {
   "codemirror_mode": {
    "name": "ipython",
    "version": 3
   },
   "file_extension": ".py",
   "mimetype": "text/x-python",
   "name": "python",
   "nbconvert_exporter": "python",
   "pygments_lexer": "ipython3",
   "version": "3.9.18"
  }
 },
 "nbformat": 4,
 "nbformat_minor": 5
}
